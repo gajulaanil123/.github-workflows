{
  "nbformat": 4,
  "nbformat_minor": 0,
  "metadata": {
    "colab": {
      "provenance": [],
      "authorship_tag": "ABX9TyNmbKtZWjUXR+gPsnknm5JG",
      "include_colab_link": true
    },
    "kernelspec": {
      "name": "python3",
      "display_name": "Python 3"
    },
    "language_info": {
      "name": "python"
    }
  },
  "cells": [
    {
      "cell_type": "markdown",
      "metadata": {
        "id": "view-in-github",
        "colab_type": "text"
      },
      "source": [
        "<a href=\"https://colab.research.google.com/github/gajulaanil123/.github-workflows/blob/main/week_1.ipynb\" target=\"_parent\"><img src=\"https://colab.research.google.com/assets/colab-badge.svg\" alt=\"Open In Colab\"/></a>"
      ]
    },
    {
      "cell_type": "markdown",
      "source": [
        "Lab Activities Suggested:\n",
        "\n",
        "1. Implement weather modeling using the quadratic solution in stages: hard-coding variables keyboard input, read from a file, for a single set of input, multiple sets of inputs.\n",
        "\n",
        "a. save all versions, debug, fix problems."
      ],
      "metadata": {
        "id": "VdG2qjaYz5sv"
      }
    },
    {
      "cell_type": "markdown",
      "source": [
        "Hardcoding variables.\n"
      ],
      "metadata": {
        "id": "MUjH8o30GOW_"
      }
    },
    {
      "cell_type": "code",
      "source": [
        "import math\n",
        "def weather_model(T, H, W):\n",
        "    result = 0.5 * T ** 2 - 0.2 * H + 0.1 * W - 15\n",
        "    return result\n",
        "def quadratic_solution(T, H, W):\n",
        "    weather_result = weather_model(T, H, W)\n",
        "    if weather_result > 300:\n",
        "        prediction = \"1. Sunny\"\n",
        "    elif 10 <= weather_result <= 200:\n",
        "        prediction = \"2. Cloudy\"\n",
        "    elif 0 <= weather_result <100 :\n",
        "        prediction = \"3. Rainy\"\n",
        "    else:\n",
        "        prediction = \"4. Stormy\"\n",
        "    return weather_result, prediction\n",
        "T = float(input(\"Enter the temperature (T) in degrees Celsius: \"))\n",
        "H = float(input(\"Enter the humidity (H) as a percentage: \"))\n",
        "W = float(input(\"Enter the wind speed (W) in km/h: \"))\n",
        "weather_result, prediction = quadratic_solution(T, H, W)\n",
        "print(f\"\\nWeather Calculation Result: {weather_result:.2f}\")\n",
        "print(f\"Predicted Weather: {prediction}\")"
      ],
      "metadata": {
        "colab": {
          "base_uri": "https://localhost:8080/"
        },
        "id": "aQUjmgPTCMOW",
        "outputId": "4272ca87-cd09-4332-ff49-3982f254e5ed"
      },
      "execution_count": null,
      "outputs": [
        {
          "output_type": "stream",
          "name": "stdout",
          "text": [
            "Enter the temperature (T) in degrees Celsius: 45\n",
            "Enter the humidity (H) as a percentage: 15\n",
            "Enter the wind speed (W) in km/h: 24\n",
            "\n",
            "Weather Calculation Result: 996.90\n",
            "Predicted Weather: 1. Sunny\n"
          ]
        }
      ]
    },
    {
      "cell_type": "markdown",
      "source": [
        "Accepting variables via keyboard input"
      ],
      "metadata": {
        "id": "MXC83YiYGKjP"
      }
    },
    {
      "cell_type": "code",
      "source": [
        "\n",
        "def weather_model(T, H, W):\n",
        "    result = 0.5 * T ** 2 - 0.2 * H + 0.1 * W - 15\n",
        "    return result\n",
        "def quadratic_solution(T, H, W):\n",
        "    weather_result = weather_model(T, H, W)\n",
        "    if weather_result > 20:\n",
        "        prediction = \"1. Sunny\"\n",
        "    elif 10 <= weather_result <= 20:\n",
        "        prediction = \"2. Cloudy\"\n",
        "    elif 0 <= weather_result < 10:\n",
        "        prediction = \"3. Rainy\"\n",
        "    else:\n",
        "        prediction = \"4. Stormy\"\n",
        "\n",
        "    return weather_result, prediction\n",
        "def read_and_predict_weather(file_path):\n",
        "    try:\n",
        "        with open(file_path, 'r') as file:\n",
        "            lines = file.readlines()\n",
        "\n",
        "            for line in lines:\n",
        "                if not line.strip():\n",
        "                    continue\n",
        "                T, H, W = map(float, line.split(','))\n",
        "                weather_result, prediction = quadratic_solution(T, H, W)\n",
        "                print(f\"Temperature: {T}°C, Humidity: {H}%, Wind Speed: {W} km/h\")\n",
        "                print(f\"Weather Calculation Result: {weather_result:.2f}\")\n",
        "                print(f\"Predicted Weather: {prediction}\\n\")\n",
        "\n",
        "    except FileNotFoundError:\n",
        "        print(f\"Error: The file '{file_path}' was not found.\")\n",
        "    except Exception as e:\n",
        "        print(f\"An error occurred: {e}\")\n",
        "file_path = '/content/input.txt'\n",
        "read_and_predict_weather(file_path)"
      ],
      "metadata": {
        "colab": {
          "base_uri": "https://localhost:8080/"
        },
        "id": "VMkwsPaHCW57",
        "outputId": "146d7e61-2e44-4d8f-eced-3bf78dd95a3d"
      },
      "execution_count": null,
      "outputs": [
        {
          "output_type": "stream",
          "name": "stdout",
          "text": [
            "Temperature: 25.45°C, Humidity: 50.5%, Wind Speed: 10.7 km/h\n",
            "Weather Calculation Result: 299.82\n",
            "Predicted Weather: 1. Sunny\n",
            "\n"
          ]
        }
      ]
    },
    {
      "cell_type": "markdown",
      "source": [
        "Reading variables from a file.\n"
      ],
      "metadata": {
        "id": "mtUab8zXGF03"
      }
    },
    {
      "cell_type": "code",
      "source": [
        "def calculate_weather(T, H, W_input):\n",
        "    W = 0.5 * (T ** 2) - 0.2 * H + 0.1 * W_input - 15\n",
        "    return W\n",
        "\n",
        "def get_weather_condition(W):\n",
        "    if W > 300:\n",
        "        return \"Sunny\"\n",
        "    elif 200 < W <= 300:\n",
        "        return \"Rainy\"\n",
        "    elif 100 < W <= 200:\n",
        "        return \"Cloudy\"\n",
        "    else:\n",
        "        return \"Stormy\"\n",
        "T = float(input(\"Enter temperature (T): \"))\n",
        "H = float(input(\"Enter humidity (H): \"))\n",
        "W_input = float(input(\"Enter wind speed (W): \"))\n",
        "\n",
        "W = calculate_weather(T, H, W_input)\n",
        "condition = get_weather_condition(W)\n",
        "\n",
        "print(f\"Weather Condition: {condition}\")\n"
      ],
      "metadata": {
        "colab": {
          "base_uri": "https://localhost:8080/"
        },
        "id": "vk8RBoN_DFy_",
        "outputId": "7deb558e-f065-451d-eefe-0f9e363fd1a5"
      },
      "execution_count": null,
      "outputs": [
        {
          "output_type": "stream",
          "name": "stdout",
          "text": [
            "Enter temperature (T): 45\n",
            "Enter humidity (H): 6\n",
            "Enter wind speed (W): 75\n",
            "Weather Condition: Sunny\n"
          ]
        }
      ]
    },
    {
      "cell_type": "markdown",
      "source": [
        "Processing a Single Set of Inputs"
      ],
      "metadata": {
        "id": "fXZ2JBCaGADo"
      }
    },
    {
      "cell_type": "code",
      "source": [
        "import math\n",
        "def weather_model(T, H, W):\n",
        "    result = 0.5 * T ** 2 - 0.2 * H + 0.1 * W - 15\n",
        "    return result\n",
        "def quadratic_solution(T, H, W):\n",
        "    weather_result = weather_model(T, H, W)\n",
        "\n",
        "    if weather_result > 300:\n",
        "        prediction = \"1. Sunny\"\n",
        "    elif 100 <= weather_result <= 300:\n",
        "        prediction = \"2. Cloudy\"\n",
        "    elif 0 <= weather_result < 100:\n",
        "        prediction = \"3. Rainy\"\n",
        "    else:\n",
        "        prediction = \"4. Stormy\"\n",
        "\n",
        "    return weather_result, prediction\n",
        "T = float(input(\"Enter the temperature (T) in degrees Celsius: \"))\n",
        "H = float(input(\"Enter the humidity (H) as a percentage: \"))\n",
        "W = float(input(\"Enter the wind speed (W) in km/h: \"))\n",
        "weather_result, prediction = quadratic_solution(T, H, W)\n",
        "print(f\"\\nWeather Calculation Result: {weather_result:.2f}\")\n",
        "print(f\"Predicted Weather: {prediction}\")\n"
      ],
      "metadata": {
        "colab": {
          "base_uri": "https://localhost:8080/"
        },
        "id": "5IB5c5BBFTdx",
        "outputId": "3a74762f-8122-439e-ef3e-d26fc45dfb45"
      },
      "execution_count": null,
      "outputs": [
        {
          "output_type": "stream",
          "name": "stdout",
          "text": [
            "Enter the temperature (T) in degrees Celsius: 25\n",
            "Enter the humidity (H) as a percentage: 32\n",
            "Enter the wind speed (W) in km/h: 45\n",
            "\n",
            "Weather Calculation Result: 295.60\n",
            "Predicted Weather: 2. Cloudy\n"
          ]
        }
      ]
    },
    {
      "cell_type": "markdown",
      "source": [
        "Processing Multiple Sets of Inputs"
      ],
      "metadata": {
        "id": "iyRkueUCF6YV"
      }
    },
    {
      "cell_type": "code",
      "source": [
        "import math\n",
        "def weather_model(T, H, W):\n",
        "    result = 0.5 * T ** 2 - 0.2 * H + 0.1 * W - 15\n",
        "    return result\n",
        "def quadratic_solution(T, H, W):\n",
        "    weather_result = weather_model(T, H, W)\n",
        "\n",
        "    if weather_result > 300:\n",
        "        prediction = \"1. Sunny\"\n",
        "    elif 100 <= weather_result <= 300:\n",
        "        prediction = \"2. Cloudy\"\n",
        "    elif 0 <= weather_result < 100:\n",
        "        prediction = \"3. Rainy\"\n",
        "    else:\n",
        "        prediction = \"4. Stormy\"\n",
        "\n",
        "    return weather_result, prediction\n",
        "num_sets = int(input(\"Enter the number of sets of inputs you want to process: \"))\n",
        "for i in range(num_sets):\n",
        "    print(f\"\\nProcessing set {i + 1}:\")\n",
        "    T = float(input(\"Enter the temperature (T) in degrees Celsius: \"))\n",
        "    H = float(input(\"Enter the humidity (H) as a percentage: \"))\n",
        "    W = float(input(\"Enter the wind speed (W) in km/h: \"))\n",
        "    weather_result, prediction = quadratic_solution(T, H, W)\n",
        "    print(f\"\\nWeather Calculation Result: {weather_result:.2f}\")\n",
        "    print(f\"Predicted Weather: {prediction}\")\n"
      ],
      "metadata": {
        "colab": {
          "base_uri": "https://localhost:8080/"
        },
        "id": "TXD34nwYFfni",
        "outputId": "dd2db246-93d5-412b-b328-9f147e0b5b6f"
      },
      "execution_count": null,
      "outputs": [
        {
          "output_type": "stream",
          "name": "stdout",
          "text": [
            "Enter the number of sets of inputs you want to process: 3\n",
            "\n",
            "Processing set 1:\n",
            "Enter the temperature (T) in degrees Celsius: 25\n",
            "Enter the humidity (H) as a percentage: 16\n",
            "Enter the wind speed (W) in km/h: 21\n",
            "\n",
            "Weather Calculation Result: 296.40\n",
            "Predicted Weather: 2. Cloudy\n",
            "\n",
            "Processing set 2:\n",
            "Enter the temperature (T) in degrees Celsius: 12\n",
            "Enter the humidity (H) as a percentage: 23\n",
            "Enter the wind speed (W) in km/h: 25\n",
            "\n",
            "Weather Calculation Result: 54.90\n",
            "Predicted Weather: 3. Rainy\n",
            "\n",
            "Processing set 3:\n",
            "Enter the temperature (T) in degrees Celsius: 25\n",
            "Enter the humidity (H) as a percentage: 32\n",
            "Enter the wind speed (W) in km/h: 26\n",
            "\n",
            "Weather Calculation Result: 293.70\n",
            "Predicted Weather: 2. Cloudy\n"
          ]
        }
      ]
    }
  ]
}