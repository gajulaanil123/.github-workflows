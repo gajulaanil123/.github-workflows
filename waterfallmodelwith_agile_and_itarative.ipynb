{
  "cells": [
    {
      "cell_type": "markdown",
      "metadata": {
        "id": "view-in-github",
        "colab_type": "text"
      },
      "source": [
        "<a href=\"https://colab.research.google.com/github/gajulaanil123/.github-workflows/blob/main/waterfallmodelwith_agile_and_itarative.ipynb\" target=\"_parent\"><img src=\"https://colab.research.google.com/assets/colab-badge.svg\" alt=\"Open In Colab\"/></a>"
      ]
    },
    {
      "cell_type": "code",
      "execution_count": 2,
      "metadata": {
        "colab": {
          "base_uri": "https://localhost:8080/"
        },
        "id": "GZubz6r4IjOy",
        "outputId": "3b475030-d9c5-4cc8-c3d6-abe7b160d82b"
      },
      "outputs": [
        {
          "output_type": "stream",
          "name": "stdout",
          "text": [
            "\n",
            "--- Waterfall Mode ---\n",
            "Enter Temperature (T): 20\n",
            "Enter Humidity (H): 25\n",
            "Enter Wind Speed (W): 32\n",
            "\n",
            "Calculated Weather Condition: 183.20\n",
            "Prediction: 2. Cloudy\n"
          ]
        }
      ],
      "source": [
        "class WeatherModel:\n",
        "    def __init__(self):\n",
        "        \"\"\"Initialize the weather model parameters.\"\"\"\n",
        "        self.parameters = {\n",
        "            \"Temperature (T)\": None,\n",
        "            \"Humidity (H)\": None,\n",
        "            \"Wind Speed (W)\": None,\n",
        "        }\n",
        "\n",
        "    def get_inputs(self):\n",
        "        \"\"\"Get weather parameters from the user.\"\"\"\n",
        "        try:\n",
        "            self.parameters[\"Temperature (T)\"] = float(input(\"Enter Temperature (T): \"))\n",
        "            self.parameters[\"Humidity (H)\"] = float(input(\"Enter Humidity (H): \"))\n",
        "            self.parameters[\"Wind Speed (W)\"] = float(input(\"Enter Wind Speed (W): \"))\n",
        "        except ValueError:\n",
        "            print(\"Invalid input. Please enter numeric values.\")\n",
        "            self.get_inputs()\n",
        "\n",
        "    def calculate_weather(self):\n",
        "        \"\"\"Calculate the weather model using the given quadratic equation.\"\"\"\n",
        "        T = self.parameters[\"Temperature (T)\"]\n",
        "        H = self.parameters[\"Humidity (H)\"]\n",
        "        W = self.parameters[\"Wind Speed (W)\"]\n",
        "        result = 0.5 * (T ** 2) - 0.2 * H + 0.1 * W - 15\n",
        "        return result\n",
        "\n",
        "    def predict_weather(self, weather_result):\n",
        "        \"\"\"Predict weather condition based on the calculated result.\"\"\"\n",
        "        if weather_result > 300:\n",
        "            prediction = \"1. Sunny\"\n",
        "        elif 100 <= weather_result <= 300:\n",
        "            prediction = \"2. Cloudy\"\n",
        "        elif 0 <= weather_result < 100:\n",
        "            prediction = \"3. Rainy\"\n",
        "        else:\n",
        "            prediction = \"4. Stormy\"\n",
        "        return prediction\n",
        "\n",
        "    def display_result(self):\n",
        "        \"\"\"Display the calculated weather condition and prediction.\"\"\"\n",
        "        result = self.calculate_weather()\n",
        "        prediction = self.predict_weather(result)\n",
        "        print(f\"\\nCalculated Weather Condition: {result:.2f}\")\n",
        "        print(f\"Prediction: {prediction}\")\n",
        "\n",
        "\n",
        "def main_waterfall():\n",
        "    print(\"\\n--- Waterfall Mode ---\")\n",
        "    weather_model = WeatherModel()\n",
        "    weather_model.get_inputs()\n",
        "    weather_model.display_result()\n",
        "\n",
        "\n",
        "if __name__ == \"__main__\":\n",
        "    main_waterfall()\n"
      ]
    },
    {
      "cell_type": "markdown",
      "source": [
        "itarative model"
      ],
      "metadata": {
        "id": "6pMILrYMmpf3"
      }
    },
    {
      "cell_type": "code",
      "source": [
        "class WeatherModel:\n",
        "    def __init__(self):\n",
        "        \"\"\"Initialize the weather model parameters.\"\"\"\n",
        "        self.parameters = {\n",
        "            \"Temperature (T)\": None,\n",
        "            \"Humidity (H)\": None,\n",
        "            \"Wind Speed (W)\": None,\n",
        "        }\n",
        "\n",
        "    def get_inputs(self):\n",
        "        \"\"\"Get weather parameters from the user iteratively with validation.\"\"\"\n",
        "        for param in self.parameters:\n",
        "            while True:\n",
        "                try:\n",
        "                    self.parameters[param] = float(input(f\"Enter {param}: \"))\n",
        "                    break  # Exit the loop if the input is valid\n",
        "                except ValueError:\n",
        "                    print(f\"Invalid input for {param}. Please enter a numeric value.\")\n",
        "\n",
        "    def calculate_weather(self):\n",
        "        \"\"\"Calculate the weather model using the given quadratic equation.\"\"\"\n",
        "        T = self.parameters[\"Temperature (T)\"]\n",
        "        H = self.parameters[\"Humidity (H)\"]\n",
        "        W = self.parameters[\"Wind Speed (W)\"]\n",
        "        result = 0.5 * (T ** 2) - 0.2 * H + 0.1 * W - 15\n",
        "        return result\n",
        "\n",
        "    def predict_weather(self, weather_result):\n",
        "        \"\"\"Predict weather condition based on the calculated result.\"\"\"\n",
        "        if weather_result > 300:\n",
        "            prediction = \"1. Sunny\"\n",
        "        elif 100 <= weather_result <= 300:\n",
        "            prediction = \"2. Cloudy\"\n",
        "        elif 0 <= weather_result < 100:\n",
        "            prediction = \"3. Rainy\"\n",
        "        else:\n",
        "            prediction = \"4. Stormy\"\n",
        "        return prediction\n",
        "\n",
        "    def display_result(self):\n",
        "        \"\"\"Display the calculated weather condition and prediction.\"\"\"\n",
        "        result = self.calculate_weather()\n",
        "        prediction = self.predict_weather(result)\n",
        "        print(f\"\\nCalculated Weather Condition: {result:.2f}\")\n",
        "        print(f\"Prediction: {prediction}\")\n",
        "\n",
        "\n",
        "def main_iterative():\n",
        "    print(\"\\n--- Iterative Weather Model ---\")\n",
        "    weather_model = WeatherModel()\n",
        "\n",
        "    while True:\n",
        "        weather_model.get_inputs()\n",
        "        weather_model.display_result()\n",
        "\n",
        "        repeat = input(\"\\nWould you like to enter another set of values? (yes/no): \").strip().lower()\n",
        "        if repeat != 'yes':\n",
        "            print(\"\\nExiting the program. Goodbye!\")\n",
        "            break\n",
        "\n",
        "\n",
        "if __name__ == \"__main__\":\n",
        "    main_iterative()\n"
      ],
      "metadata": {
        "colab": {
          "base_uri": "https://localhost:8080/"
        },
        "id": "0YE5Yl_SmSx9",
        "outputId": "83d54bad-4658-4c33-de4a-6dccc5cf6d76"
      },
      "execution_count": 3,
      "outputs": [
        {
          "output_type": "stream",
          "name": "stdout",
          "text": [
            "\n",
            "--- Iterative Weather Model ---\n",
            "Enter Temperature (T): 22\n",
            "Enter Humidity (H): 25\n",
            "Enter Wind Speed (W): 32\n",
            "\n",
            "Calculated Weather Condition: 225.20\n",
            "Prediction: 2. Cloudy\n",
            "\n",
            "Would you like to enter another set of values? (yes/no): no\n",
            "\n",
            "Exiting the program. Goodbye!\n"
          ]
        }
      ]
    },
    {
      "cell_type": "markdown",
      "source": [
        "agile model"
      ],
      "metadata": {
        "id": "xzp3duX-mxJP"
      }
    },
    {
      "cell_type": "code",
      "source": [
        "class WeatherModel:\n",
        "    def __init__(self):\n",
        "        \"\"\"Initialize the weather model parameters with placeholders.\"\"\"\n",
        "        self.parameters = {\n",
        "            \"Temperature (T)\": None,\n",
        "            \"Humidity (H)\": None,\n",
        "            \"Wind Speed (W)\": None,\n",
        "        }\n",
        "\n",
        "    def get_inputs(self):\n",
        "        \"\"\"Get weather parameters from the user iteratively with feedback.\"\"\"\n",
        "        for param in self.parameters:\n",
        "            while True:\n",
        "                try:\n",
        "                    self.parameters[param] = float(input(f\"Enter {param}: \"))\n",
        "                    break  # Exit the loop if the input is valid\n",
        "                except ValueError:\n",
        "                    print(f\"Invalid input for {param}. Please enter a numeric value.\")\n",
        "\n",
        "    def calculate_weather(self):\n",
        "        \"\"\"Calculate the weather model using the given quadratic equation.\"\"\"\n",
        "        T = self.parameters[\"Temperature (T)\"]\n",
        "        H = self.parameters[\"Humidity (H)\"]\n",
        "        W = self.parameters[\"Wind Speed (W)\"]\n",
        "        result = 0.5 * (T ** 2) - 0.2 * H + 0.1 * W - 15\n",
        "        return result\n",
        "\n",
        "    def predict_weather(self, weather_result):\n",
        "        \"\"\"Predict weather condition based on the calculated result.\"\"\"\n",
        "        if weather_result > 300:\n",
        "            prediction = \"1. Sunny\"\n",
        "        elif 100 <= weather_result <= 300:\n",
        "            prediction = \"2. Cloudy\"\n",
        "        elif 0 <= weather_result < 100:\n",
        "            prediction = \"3. Rainy\"\n",
        "        else:\n",
        "            prediction = \"4. Stormy\"\n",
        "        return prediction\n",
        "\n",
        "    def display_result(self):\n",
        "        \"\"\"Display the calculated weather condition and prediction.\"\"\"\n",
        "        result = self.calculate_weather()\n",
        "        prediction = self.predict_weather(result)\n",
        "        print(f\"\\nCalculated Weather Condition: {result:.2f}\")\n",
        "        print(f\"Prediction: {prediction}\")\n",
        "\n",
        "\n",
        "def main_agile():\n",
        "    print(\"\\n--- Agile Weather Model ---\")\n",
        "    weather_model = WeatherModel()\n",
        "    iteration = 0\n",
        "\n",
        "    while True:\n",
        "        iteration += 1\n",
        "        print(f\"\\nIteration {iteration}:\")\n",
        "\n",
        "        weather_model.get_inputs()\n",
        "        weather_model.display_result()\n",
        "\n",
        "        feedback = input(\"\\nDo you have feedback or want to refine inputs? (yes/no): \").strip().lower()\n",
        "        if feedback == \"yes\":\n",
        "            print(\"\\nLet's refine the inputs.\")\n",
        "            continue  # Go back to input stage for refinement\n",
        "\n",
        "        repeat = input(\"Would you like to enter another set of values for a new iteration? (yes/no): \").strip().lower()\n",
        "        if repeat != 'yes':\n",
        "            print(\"\\nExiting the Agile weather model. Goodbye!\")\n",
        "            break\n",
        "\n",
        "\n",
        "if __name__ == \"__main__\":\n",
        "    main_agile()\n"
      ],
      "metadata": {
        "colab": {
          "base_uri": "https://localhost:8080/"
        },
        "id": "OeOJMDb8mafK",
        "outputId": "90f27c0f-e550-459b-d217-c54b5f3b71ec"
      },
      "execution_count": 4,
      "outputs": [
        {
          "output_type": "stream",
          "name": "stdout",
          "text": [
            "\n",
            "--- Agile Weather Model ---\n",
            "\n",
            "Iteration 1:\n",
            "Enter Temperature (T): 22\n",
            "Enter Humidity (H): 25\n",
            "Enter Wind Speed (W): 32\n",
            "\n",
            "Calculated Weather Condition: 225.20\n",
            "Prediction: 2. Cloudy\n",
            "\n",
            "Do you have feedback or want to refine inputs? (yes/no): no\n",
            "Would you like to enter another set of values for a new iteration? (yes/no): no\n",
            "\n",
            "Exiting the Agile weather model. Goodbye!\n"
          ]
        }
      ]
    }
  ],
  "metadata": {
    "colab": {
      "provenance": [],
      "authorship_tag": "ABX9TyMY6BrniNbq8os2hoARUsuQ",
      "include_colab_link": true
    },
    "kernelspec": {
      "display_name": "Python 3",
      "name": "python3"
    },
    "language_info": {
      "name": "python"
    }
  },
  "nbformat": 4,
  "nbformat_minor": 0
}