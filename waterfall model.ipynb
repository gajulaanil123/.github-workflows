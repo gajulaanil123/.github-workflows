{
  "nbformat": 4,
  "nbformat_minor": 0,
  "metadata": {
    "colab": {
      "provenance": [],
      "authorship_tag": "ABX9TyOlR8V6zze7Bw+AvkuTIrit",
      "include_colab_link": true
    },
    "kernelspec": {
      "name": "python3",
      "display_name": "Python 3"
    },
    "language_info": {
      "name": "python"
    }
  },
  "cells": [
    {
      "cell_type": "markdown",
      "metadata": {
        "id": "view-in-github",
        "colab_type": "text"
      },
      "source": [
        "<a href=\"https://colab.research.google.com/github/gajulaanil123/.github-workflows/blob/main/Untitled0.ipynb\" target=\"_parent\"><img src=\"https://colab.research.google.com/assets/colab-badge.svg\" alt=\"Open In Colab\"/></a>"
      ]
    },
    {
      "cell_type": "code",
      "source": [
        "class WeatherModel:\n",
        "    def __init__(self):\n",
        "        \"\"\"Initialize the weather model parameters.\"\"\"\n",
        "        self.parameters = {\n",
        "            \"Temperature (T)\": None,\n",
        "            \"Humidity (H)\": None,\n",
        "            \"Wind Speed (W)\": None,\n",
        "        }\n",
        "\n",
        "    def get_inputs(self):\n",
        "        \"\"\"Get weather parameters from the user.\"\"\"\n",
        "        try:\n",
        "            self.parameters[\"Temperature (T)\"] = float(input(\"Enter Temperature (T): \"))\n",
        "            self.parameters[\"Humidity (H)\"] = float(input(\"Enter Humidity (H): \"))\n",
        "            self.parameters[\"Wind Speed (W)\"] = float(input(\"Enter Wind Speed (W): \"))\n",
        "        except ValueError:\n",
        "            print(\"Invalid input. Please enter numeric values.\")\n",
        "            self.get_inputs()\n",
        "\n",
        "    def calculate_weather(self):\n",
        "        \"\"\"Calculate the weather model using the given quadratic equation.\"\"\"\n",
        "        T = self.parameters[\"Temperature (T)\"]\n",
        "        H = self.parameters[\"Humidity (H)\"]\n",
        "        W = self.parameters[\"Wind Speed (W)\"]\n",
        "        result = 0.5 * (T ** 2) - 0.2 * H + 0.1 * W - 15\n",
        "        return result\n",
        "\n",
        "    def predict_weather(self, weather_result):\n",
        "        \"\"\"Predict weather condition based on the calculated result.\"\"\"\n",
        "        if weather_result > 300:\n",
        "            prediction = \"1. Sunny\"\n",
        "        elif 100 <= weather_result <= 300:\n",
        "            prediction = \"2. Cloudy\"\n",
        "        elif 0 <= weather_result < 100:\n",
        "            prediction = \"3. Rainy\"\n",
        "        else:\n",
        "            prediction = \"4. Stormy\"\n",
        "        return prediction\n",
        "\n",
        "    def display_result(self):\n",
        "        \"\"\"Display the calculated weather condition and prediction.\"\"\"\n",
        "        result = self.calculate_weather()\n",
        "        prediction = self.predict_weather(result)\n",
        "        print(f\"\\nCalculated Weather Condition: {result:.2f}\")\n",
        "        print(f\"Prediction: {prediction}\")\n",
        "\n",
        "\n",
        "def main_waterfall():\n",
        "    print(\"\\n--- Waterfall Mode ---\")\n",
        "    weather_model = WeatherModel()\n",
        "    weather_model.get_inputs()\n",
        "    weather_model.display_result()\n",
        "\n",
        "\n",
        "if __name__ == \"__main__\":\n",
        "    main_waterfall()\n"
      ],
      "metadata": {
        "id": "OmPNudjxJybl",
        "outputId": "db0cefbc-fe1b-405d-e8c9-b4d34d05eab6",
        "colab": {
          "base_uri": "https://localhost:8080/"
        }
      },
      "execution_count": 4,
      "outputs": [
        {
          "output_type": "stream",
          "name": "stdout",
          "text": [
            "\n",
            "--- Waterfall Mode ---\n",
            "Enter Temperature (T): 20\n",
            "Enter Humidity (H): 35\n",
            "Enter Wind Speed (W): 45\n",
            "\n",
            "Calculated Weather Condition: 182.50\n",
            "Prediction: 2. Cloudy\n"
          ]
        }
      ]
    },
    {
      "cell_type": "code",
      "source": [],
      "metadata": {
        "id": "OmLzoCqVJ8VN"
      },
      "execution_count": null,
      "outputs": []
    }
  ]
}
